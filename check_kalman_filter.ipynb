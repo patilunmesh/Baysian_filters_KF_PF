{
 "cells": [
  {
   "cell_type": "markdown",
   "metadata": {},
   "source": [
    "# Kalman filter \n",
    "\n",
    "This Jupyter notebook file imports (and tests) all of the code needed to do the Kalman' filter assignment. Note that the actual code is in the .py files in this directory.\n",
    "\n",
    "This is where you'll fill in the missing code from the last assignment\n",
    "\n",
    "Slides for this assignment: https://docs.google.com/presentation/d/1Q6w-vczvWHanGDqbuz6H1qhTOkSrX54kf1g8NgTcipQ/edit?usp=sharing"
   ]
  },
  {
   "cell_type": "markdown",
   "metadata": {},
   "source": [
    "## Robot ground truth\n",
    "This gets all the code in Robot_ground_truth.py. If you change any code in that file then you will need to re-execute this import."
   ]
  },
  {
   "cell_type": "code",
   "execution_count": 2,
   "metadata": {},
   "outputs": [
    {
     "name": "stdout",
     "output_type": "stream",
     "text": [
      "The autoreload extension is already loaded. To reload it, use:\n",
      "  %reload_ext autoreload\n"
     ]
    }
   ],
   "source": [
    "import sys; sys.path.insert(0, '.')\n",
    "\n",
    "# These commands will force JN to actually re-load the external file when you re-execute the import command\n",
    "%load_ext autoreload\n",
    "%autoreload 2"
   ]
  },
  {
   "cell_type": "code",
   "execution_count": 3,
   "metadata": {},
   "outputs": [],
   "source": [
    "from robot_ground_truth import RobotGroundTruth, test_continuous_move_functions"
   ]
  },
  {
   "cell_type": "code",
   "execution_count": 4,
   "metadata": {
    "tags": []
   },
   "outputs": [
    {
     "name": "stdout",
     "output_type": "stream",
     "text": [
      "Robot ground truth: Passed move continuous syntax check\n"
     ]
    }
   ],
   "source": [
    "# Syntax check\n",
    "robot_gt = RobotGroundTruth()\n",
    "robot_gt.reset_location()\n",
    "robot_gt.set_move_continuos_probabilities(0.01)\n",
    "ret_amt_moved = robot_gt.move_continuous(0.0)\n",
    "if -0.1 < ret_amt_moved < 0.1:\n",
    "    print(f\"Robot ground truth: Passed move continuous syntax check\")"
   ]
  },
  {
   "cell_type": "code",
   "execution_count": 5,
   "metadata": {
    "tags": []
   },
   "outputs": [
    {
     "name": "stdout",
     "output_type": "stream",
     "text": [
      "Checking move with normal distribution probabilities\n",
      "Passed continuous tests\n"
     ]
    },
    {
     "data": {
      "text/plain": [
       "True"
      ]
     },
     "execution_count": 5,
     "metadata": {},
     "output_type": "execute_result"
    }
   ],
   "source": [
    "# Edit the code in robot_ground_truth.py (the methods tagged with Kalman assignment)\n",
    "test_continuous_move_functions()"
   ]
  },
  {
   "cell_type": "markdown",
   "metadata": {},
   "source": [
    "## Robot sensors"
   ]
  },
  {
   "cell_type": "code",
   "execution_count": 6,
   "metadata": {
    "tags": []
   },
   "outputs": [],
   "source": [
    "from robot_sensors import RobotSensors, test_continuous_sensor"
   ]
  },
  {
   "cell_type": "code",
   "execution_count": 7,
   "metadata": {
    "tags": []
   },
   "outputs": [
    {
     "name": "stdout",
     "output_type": "stream",
     "text": [
      "Dist wall sensor, passed syntax test\n"
     ]
    }
   ],
   "source": [
    "# Syntax check\n",
    "robot_gt = RobotGroundTruth()\n",
    "robot_sensor = RobotSensors()\n",
    "robot_sensor.set_distance_wall_sensor_probabilities(sigma=0.01)\n",
    "dist_with_noise = robot_sensor.query_distance_to_wall(robot_gt)\n",
    "if 0.0 < dist_with_noise < 1.0:\n",
    "    print(\"Dist wall sensor, passed syntax test\")"
   ]
  },
  {
   "cell_type": "code",
   "execution_count": 8,
   "metadata": {
    "tags": []
   },
   "outputs": [
    {
     "name": "stdout",
     "output_type": "stream",
     "text": [
      "Checking query wall with normal distribution probabilities\n",
      "Passed continuous tests\n"
     ]
    },
    {
     "data": {
      "text/plain": [
       "True"
      ]
     },
     "execution_count": 8,
     "metadata": {},
     "output_type": "execute_result"
    }
   ],
   "source": [
    "# Edit the code in robot_sensors.py (the methods tagged with Bayes assignment)\n",
    "test_continuous_sensor()"
   ]
  },
  {
   "cell_type": "markdown",
   "metadata": {},
   "source": [
    "## Kalman filter\n",
    "\n",
    "This is the part where you actually *do* the kalman filter update. There's two parts, the sensor update and the move update. The test file runs a sensor, then a move, then a sequence of sensor, sequence of move, then a mix."
   ]
  },
  {
   "cell_type": "code",
   "execution_count": 9,
   "metadata": {},
   "outputs": [],
   "source": [
    "from kalman_filter import KalmanFilter, test_kalman_update"
   ]
  },
  {
   "cell_type": "code",
   "execution_count": 10,
   "metadata": {
    "tags": []
   },
   "outputs": [
    {
     "data": {
      "text/plain": [
       "(0.17999999999999994, 0.13)"
      ]
     },
     "execution_count": 10,
     "metadata": {},
     "output_type": "execute_result"
    }
   ],
   "source": [
    "# Syntax checks\n",
    "kalman_filter = KalmanFilter()\n",
    "robot_ground_truth = RobotGroundTruth()\n",
    "robot_sensor = RobotSensors()\n",
    "\n",
    "# Set mu/sigmas\n",
    "sensor_noise = {\"mu\": 0.0, \"sigma\": 0.1}\n",
    "move_error = {\"mu\": 0.0, \"sigma\": 0.05}\n",
    "robot_ground_truth.set_move_continuos_probabilities(move_error[\"sigma\"])\n",
    "robot_sensor.set_distance_wall_sensor_probabilities(sensor_noise[\"sigma\"])\n",
    "\n",
    "kalman_filter.update_belief_distance_sensor(robot_sensor, 0.1)\n",
    "kalman_filter.update_continuous_move(robot_ground_truth, 0.0)"
   ]
  },
  {
   "cell_type": "code",
   "execution_count": 11,
   "metadata": {
    "tags": []
   },
   "outputs": [
    {
     "name": "stdout",
     "output_type": "stream",
     "text": [
      "Testing Kalman\n",
      "Passed\n"
     ]
    },
    {
     "data": {
      "text/plain": [
       "True"
      ]
     },
     "execution_count": 11,
     "metadata": {},
     "output_type": "execute_result"
    }
   ],
   "source": [
    "test_kalman_update()"
   ]
  }
 ],
 "metadata": {
  "kernelspec": {
   "display_name": "Python 3.8.0 64-bit",
   "language": "python",
   "name": "python3"
  },
  "language_info": {
   "codemirror_mode": {
    "name": "ipython",
    "version": 3
   },
   "file_extension": ".py",
   "mimetype": "text/x-python",
   "name": "python",
   "nbconvert_exporter": "python",
   "pygments_lexer": "ipython3",
   "version": "3.10.12"
  },
  "otter": {
   "tests": {
    "hours_collaborators": {
     "name": "hours_collaborators",
     "points": 1,
     "suites": [
      {
       "cases": [
        {
         "code": ">>> assert(not \"not filled out\" in worked_with_names)\n",
         "hidden": false,
         "locked": false
        },
        {
         "code": ">>> assert(not \"not filled out\" in websites)\n",
         "hidden": false,
         "locked": false
        },
        {
         "code": ">>> assert(hours > 0)\n",
         "hidden": false,
         "locked": false
        }
       ],
       "scored": true,
       "setup": "",
       "teardown": "",
       "type": "doctest"
      }
     ]
    },
    "kalman_filter": {
     "name": "kalman_filter",
     "points": 15,
     "suites": [
      {
       "cases": [
        {
         "code": ">>> assert(test_kalman_update(b_print=False))\n",
         "hidden": false,
         "locked": false
        }
       ],
       "scored": true,
       "setup": "",
       "teardown": "",
       "type": "doctest"
      }
     ]
    },
    "robotGT": {
     "name": "robotGT",
     "points": 5,
     "suites": [
      {
       "cases": [
        {
         "code": ">>> assert(test_continuous_move_functions(b_print=False))\n",
         "hidden": false,
         "locked": false
        }
       ],
       "scored": true,
       "setup": "",
       "teardown": "",
       "type": "doctest"
      }
     ]
    },
    "robot_sensors": {
     "name": "robot_sensors",
     "points": 10,
     "suites": [
      {
       "cases": [
        {
         "code": ">>> assert(test_continuous_sensor(b_print=False))\n",
         "hidden": false,
         "locked": false
        }
       ],
       "scored": true,
       "setup": "",
       "teardown": "",
       "type": "doctest"
      }
     ]
    }
   }
  },
  "vscode": {
   "interpreter": {
    "hash": "df0893f56f349688326838aaeea0de204df53a132722cbd565e54b24a8fec5f6"
   }
  }
 },
 "nbformat": 4,
 "nbformat_minor": 2
}
